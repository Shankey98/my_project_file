{
 "cells": [
  {
   "cell_type": "code",
   "execution_count": 1,
   "id": "1c7a5684",
   "metadata": {},
   "outputs": [],
   "source": [
    "from selenium import webdriver\n",
    "from selenium.webdriver.common.by import By\n",
    "from selenium.webdriver.common.keys import Keys\n",
    "from selenium.webdriver.chrome.options import Options\n",
    "import time"
   ]
  },
  {
   "cell_type": "code",
   "execution_count": 2,
   "id": "b6062eac",
   "metadata": {},
   "outputs": [],
   "source": [
    "# 크롬 프로필 불러와서 로그인 상태 유지\n",
    "chrome_options = Options() #옵션 저장\n",
    "chrome_options.add_argument(r\"--user-data-dir=C:\\Users\\SEUNGJUN\\AppData\\Local\\Google\\Chrome_Selenium\")  # 내 PC의 chrome 경로에 맞게 경로 조정\n",
    "chrome_options.add_argument(\"--profile-directory=Profile 1\")  # 보통은 Default, 다른 프로필이면 바꿔야 함\n",
    "\n",
    "driver = webdriver.Chrome(options=chrome_options)"
   ]
  },
  {
   "cell_type": "code",
   "execution_count": 3,
   "id": "c2559002",
   "metadata": {},
   "outputs": [
    {
     "name": "stdout",
     "output_type": "stream",
     "text": [
      "2025-07-20(일)\n"
     ]
    }
   ],
   "source": [
    "from datetime import datetime\n",
    "\n",
    "# 오늘 날짜를 'YYYY-MM-DD(weekday)' 형식으로 가져오기, 예약 날짜 지정\n",
    "today = datetime.today().strftime('%Y-%m-%d')\n",
    "weekday_kor = ['월', '화', '수', '목', '금', '토', '일']\n",
    "weekday = weekday_kor[datetime.today().weekday()]\n",
    "print(f\"{today}({weekday})\")"
   ]
  },
  {
   "cell_type": "code",
   "execution_count": 7,
   "id": "f4a65b14",
   "metadata": {},
   "outputs": [],
   "source": [
    "# 예약 날짜 지정\n",
    "hope_date = input(\"YYYY-MM-DD형식으로 입력하세요.\")\n",
    "room_id = \"92\"\n",
    "url = f\"https://lib.hanyang.ac.kr/facility/room/all-rooms/{room_id}/{hope_date}?hopeDate={hope_date}\"\n",
    "driver.get(url)\n",
    "time.sleep(2)  # 페이지 로딩 대기"
   ]
  },
  {
   "cell_type": "code",
   "execution_count": 8,
   "id": "0216a750",
   "metadata": {},
   "outputs": [
    {
     "ename": "NoSuchElementException",
     "evalue": "Message: no such element: Unable to locate element: {\"method\":\"css selector\",\"selector\":\"input[formcontrolname=\"userId\"]\"}\n  (Session info: chrome=138.0.7204.158); For documentation on this error, please visit: https://www.selenium.dev/documentation/webdriver/troubleshooting/errors#nosuchelementexception\nStacktrace:\n\tGetHandleVerifier [0x0x7ff61456e925+77845]\n\tGetHandleVerifier [0x0x7ff61456e980+77936]\n\t(No symbol) [0x0x7ff614329cda]\n\t(No symbol) [0x0x7ff6143806aa]\n\t(No symbol) [0x0x7ff61438095c]\n\t(No symbol) [0x0x7ff6143d3d07]\n\t(No symbol) [0x0x7ff6143a890f]\n\t(No symbol) [0x0x7ff6143d0b07]\n\t(No symbol) [0x0x7ff6143a86a3]\n\t(No symbol) [0x0x7ff614371791]\n\t(No symbol) [0x0x7ff614372523]\n\tGetHandleVerifier [0x0x7ff61484683d+3059501]\n\tGetHandleVerifier [0x0x7ff614840bfd+3035885]\n\tGetHandleVerifier [0x0x7ff6148603f0+3164896]\n\tGetHandleVerifier [0x0x7ff614588c2e+185118]\n\tGetHandleVerifier [0x0x7ff61459053f+216111]\n\tGetHandleVerifier [0x0x7ff6145772d4+113092]\n\tGetHandleVerifier [0x0x7ff614577489+113529]\n\tGetHandleVerifier [0x0x7ff61455e288+10616]\n\tBaseThreadInitThunk [0x0x7ff8f8d6259d+29]\n\tRtlUserThreadStart [0x0x7ff8f9f6af78+40]\n",
     "output_type": "error",
     "traceback": [
      "\u001b[31m---------------------------------------------------------------------------\u001b[39m",
      "\u001b[31mNoSuchElementException\u001b[39m                    Traceback (most recent call last)",
      "\u001b[36mCell\u001b[39m\u001b[36m \u001b[39m\u001b[32mIn[8]\u001b[39m\u001b[32m, line 9\u001b[39m\n\u001b[32m      6\u001b[39m lib_pw = \u001b[33m\"\u001b[39m\u001b[33moeu1055^&^\u001b[39m\u001b[33m\"\u001b[39m\n\u001b[32m      8\u001b[39m \u001b[38;5;66;03m# 아이디 입력\u001b[39;00m\n\u001b[32m----> \u001b[39m\u001b[32m9\u001b[39m id_input = \u001b[43mdriver\u001b[49m\u001b[43m.\u001b[49m\u001b[43mfind_element\u001b[49m\u001b[43m(\u001b[49m\u001b[43mBy\u001b[49m\u001b[43m.\u001b[49m\u001b[43mCSS_SELECTOR\u001b[49m\u001b[43m,\u001b[49m\u001b[43m \u001b[49m\u001b[33;43m'\u001b[39;49m\u001b[33;43minput[formcontrolname=\u001b[39;49m\u001b[33;43m\"\u001b[39;49m\u001b[33;43muserId\u001b[39;49m\u001b[33;43m\"\u001b[39;49m\u001b[33;43m]\u001b[39;49m\u001b[33;43m'\u001b[39;49m\u001b[43m)\u001b[49m\n\u001b[32m     10\u001b[39m id_input.clear()\n\u001b[32m     11\u001b[39m id_input.send_keys(lib_id)\n",
      "\u001b[36mFile \u001b[39m\u001b[32mc:\\Users\\SEUNGJUN\\AppData\\Local\\Programs\\Python\\Python313\\Lib\\site-packages\\selenium\\webdriver\\remote\\webdriver.py:922\u001b[39m, in \u001b[36mWebDriver.find_element\u001b[39m\u001b[34m(self, by, value)\u001b[39m\n\u001b[32m    919\u001b[39m         \u001b[38;5;28;01mraise\u001b[39;00m NoSuchElementException(\u001b[33mf\u001b[39m\u001b[33m\"\u001b[39m\u001b[33mCannot locate relative element with: \u001b[39m\u001b[38;5;132;01m{\u001b[39;00mby.root\u001b[38;5;132;01m}\u001b[39;00m\u001b[33m\"\u001b[39m)\n\u001b[32m    920\u001b[39m     \u001b[38;5;28;01mreturn\u001b[39;00m elements[\u001b[32m0\u001b[39m]\n\u001b[32m--> \u001b[39m\u001b[32m922\u001b[39m \u001b[38;5;28;01mreturn\u001b[39;00m \u001b[38;5;28;43mself\u001b[39;49m\u001b[43m.\u001b[49m\u001b[43mexecute\u001b[49m\u001b[43m(\u001b[49m\u001b[43mCommand\u001b[49m\u001b[43m.\u001b[49m\u001b[43mFIND_ELEMENT\u001b[49m\u001b[43m,\u001b[49m\u001b[43m \u001b[49m\u001b[43m{\u001b[49m\u001b[33;43m\"\u001b[39;49m\u001b[33;43musing\u001b[39;49m\u001b[33;43m\"\u001b[39;49m\u001b[43m:\u001b[49m\u001b[43m \u001b[49m\u001b[43mby\u001b[49m\u001b[43m,\u001b[49m\u001b[43m \u001b[49m\u001b[33;43m\"\u001b[39;49m\u001b[33;43mvalue\u001b[39;49m\u001b[33;43m\"\u001b[39;49m\u001b[43m:\u001b[49m\u001b[43m \u001b[49m\u001b[43mvalue\u001b[49m\u001b[43m}\u001b[49m\u001b[43m)\u001b[49m[\u001b[33m\"\u001b[39m\u001b[33mvalue\u001b[39m\u001b[33m\"\u001b[39m]\n",
      "\u001b[36mFile \u001b[39m\u001b[32mc:\\Users\\SEUNGJUN\\AppData\\Local\\Programs\\Python\\Python313\\Lib\\site-packages\\selenium\\webdriver\\remote\\webdriver.py:454\u001b[39m, in \u001b[36mWebDriver.execute\u001b[39m\u001b[34m(self, driver_command, params)\u001b[39m\n\u001b[32m    451\u001b[39m response = cast(RemoteConnection, \u001b[38;5;28mself\u001b[39m.command_executor).execute(driver_command, params)\n\u001b[32m    453\u001b[39m \u001b[38;5;28;01mif\u001b[39;00m response:\n\u001b[32m--> \u001b[39m\u001b[32m454\u001b[39m     \u001b[38;5;28;43mself\u001b[39;49m\u001b[43m.\u001b[49m\u001b[43merror_handler\u001b[49m\u001b[43m.\u001b[49m\u001b[43mcheck_response\u001b[49m\u001b[43m(\u001b[49m\u001b[43mresponse\u001b[49m\u001b[43m)\u001b[49m\n\u001b[32m    455\u001b[39m     response[\u001b[33m\"\u001b[39m\u001b[33mvalue\u001b[39m\u001b[33m\"\u001b[39m] = \u001b[38;5;28mself\u001b[39m._unwrap_value(response.get(\u001b[33m\"\u001b[39m\u001b[33mvalue\u001b[39m\u001b[33m\"\u001b[39m, \u001b[38;5;28;01mNone\u001b[39;00m))\n\u001b[32m    456\u001b[39m     \u001b[38;5;28;01mreturn\u001b[39;00m response\n",
      "\u001b[36mFile \u001b[39m\u001b[32mc:\\Users\\SEUNGJUN\\AppData\\Local\\Programs\\Python\\Python313\\Lib\\site-packages\\selenium\\webdriver\\remote\\errorhandler.py:232\u001b[39m, in \u001b[36mErrorHandler.check_response\u001b[39m\u001b[34m(self, response)\u001b[39m\n\u001b[32m    230\u001b[39m         alert_text = value[\u001b[33m\"\u001b[39m\u001b[33malert\u001b[39m\u001b[33m\"\u001b[39m].get(\u001b[33m\"\u001b[39m\u001b[33mtext\u001b[39m\u001b[33m\"\u001b[39m)\n\u001b[32m    231\u001b[39m     \u001b[38;5;28;01mraise\u001b[39;00m exception_class(message, screen, stacktrace, alert_text)  \u001b[38;5;66;03m# type: ignore[call-arg]  # mypy is not smart enough here\u001b[39;00m\n\u001b[32m--> \u001b[39m\u001b[32m232\u001b[39m \u001b[38;5;28;01mraise\u001b[39;00m exception_class(message, screen, stacktrace)\n",
      "\u001b[31mNoSuchElementException\u001b[39m: Message: no such element: Unable to locate element: {\"method\":\"css selector\",\"selector\":\"input[formcontrolname=\"userId\"]\"}\n  (Session info: chrome=138.0.7204.158); For documentation on this error, please visit: https://www.selenium.dev/documentation/webdriver/troubleshooting/errors#nosuchelementexception\nStacktrace:\n\tGetHandleVerifier [0x0x7ff61456e925+77845]\n\tGetHandleVerifier [0x0x7ff61456e980+77936]\n\t(No symbol) [0x0x7ff614329cda]\n\t(No symbol) [0x0x7ff6143806aa]\n\t(No symbol) [0x0x7ff61438095c]\n\t(No symbol) [0x0x7ff6143d3d07]\n\t(No symbol) [0x0x7ff6143a890f]\n\t(No symbol) [0x0x7ff6143d0b07]\n\t(No symbol) [0x0x7ff6143a86a3]\n\t(No symbol) [0x0x7ff614371791]\n\t(No symbol) [0x0x7ff614372523]\n\tGetHandleVerifier [0x0x7ff61484683d+3059501]\n\tGetHandleVerifier [0x0x7ff614840bfd+3035885]\n\tGetHandleVerifier [0x0x7ff6148603f0+3164896]\n\tGetHandleVerifier [0x0x7ff614588c2e+185118]\n\tGetHandleVerifier [0x0x7ff61459053f+216111]\n\tGetHandleVerifier [0x0x7ff6145772d4+113092]\n\tGetHandleVerifier [0x0x7ff614577489+113529]\n\tGetHandleVerifier [0x0x7ff61455e288+10616]\n\tBaseThreadInitThunk [0x0x7ff8f8d6259d+29]\n\tRtlUserThreadStart [0x0x7ff8f9f6af78+40]\n"
     ]
    }
   ],
   "source": [
    "from selenium.webdriver.common.by import By\n",
    "from selenium.webdriver.support.ui import WebDriverWait\n",
    "from selenium.webdriver.support import expected_conditions as EC\n",
    "\n",
    "lib_id = \"sjunoh2004\"\n",
    "lib_pw = \"oeu1055^&^\"\n",
    "\n",
    "# 아이디 입력\n",
    "id_input = driver.find_element(By.CSS_SELECTOR, 'input[formcontrolname=\"userId\"]')\n",
    "id_input.clear()\n",
    "id_input.send_keys(lib_id)\n",
    "\n",
    "# 비밀번호 입력\n",
    "pw_input = driver.find_element(By.CSS_SELECTOR, 'input[formcontrolname=\"password\"]')\n",
    "pw_input.clear()\n",
    "pw_input.send_keys(lib_pw)\n",
    "\n",
    "# 로그인 버튼 활성화 대기 후 클릭\n",
    "WebDriverWait(driver, 5).until(\n",
    "    EC.element_to_be_clickable((By.XPATH, '//button[.//span[text()=\"로그인\"]]'))\n",
    ")\n",
    "login_btn = driver.find_element(By.XPATH, '//button[.//span[text()=\"로그인\"]]')\n",
    "login_btn.click()"
   ]
  },
  {
   "cell_type": "code",
   "execution_count": 9,
   "id": "b69a39fe",
   "metadata": {},
   "outputs": [],
   "source": [
    "from selenium.webdriver.support.ui import Select\n",
    "\n",
    "# 선택지 딕셔너리\n",
    "choices = {1: \"13:00\", 2: \"15:00\"}\n",
    "\n",
    "# 사용자에게 번호를 입력받음\n",
    "num = int(input(\"예약 시작 시간을 선택하세요 (1: 13:00, 2: 15:00): \"))\n",
    "\n",
    "# 선택한 시간 가져오기\n",
    "selected_time = choices[num]\n",
    "\n",
    "# 예약시작시간 셀렉트 박스 요소 찾기\n",
    "select_begin_elem = driver.find_element(By.CSS_SELECTOR, 'select[formcontrolname=\"beginTime\"]')\n",
    "select_begin_obj = Select(select_begin_elem)\n",
    "\n",
    "# 드롭다운에서 시간 선택\n",
    "try:\n",
    "    select_begin_obj.select_by_value(selected_time)\n",
    "except Exception as e:\n",
    "    print(\"해당 옵션이 없습니다. 다른 시간대를 선택하세요.\")"
   ]
  },
  {
   "cell_type": "code",
   "execution_count": 10,
   "id": "bd666294",
   "metadata": {},
   "outputs": [],
   "source": [
    "# 예약종료시간 셀렉트 박스 요소 찾기\n",
    "select_end_elem = driver.find_element(By.CSS_SELECTOR, 'select[formcontrolname=\"endTime\"]')\n",
    "select_obj = Select(select_end_elem)\n",
    "\n",
    "# 드롭다운에서 시간 선택\n",
    "endtime_map = {\"13:00\": \"15:00\", \"15:00\": \"17:00\"}\n",
    "selected_endtime = endtime_map.get(selected_time)\n",
    "if selected_endtime:\n",
    "    try:\n",
    "        select_obj.select_by_value(selected_endtime)\n",
    "    except Exception as e:\n",
    "        print(\"해당 옵션이 없습니다. 다른 시간대를 선택하세요.\")\n",
    "else:\n",
    "    print(\"매칭되는 종료 시간이 없습니다.\")"
   ]
  },
  {
   "cell_type": "code",
   "execution_count": 11,
   "id": "7dbcad2a",
   "metadata": {},
   "outputs": [],
   "source": [
    "# 이용목적 셀렉트 박스 요소 찾기\n",
    "select_use_elem = driver.find_element(By.CSS_SELECTOR, 'select[formcontrolname=\"useSection\"]')\n",
    "select_obj = Select(select_use_elem)\n",
    "select_obj.select_by_value(\"2\") #회의"
   ]
  },
  {
   "cell_type": "code",
   "execution_count": 12,
   "id": "a8201498",
   "metadata": {},
   "outputs": [
    {
     "name": "stdout",
     "output_type": "stream",
     "text": [
      "동반 이용자 4명 추가 완료!\n"
     ]
    }
   ],
   "source": [
    "# 전체 명단: 이름을 key로, 학번을 value로 저장\n",
    "all_members = {\n",
    "    \"김동현\": \"2016042606\",\n",
    "    \"김재훈\": \"2017046353\",\n",
    "    \"황찬우\": \"2018026299\",\n",
    "    \"김민국\": \"2016044293\",\n",
    "    \"박중현\": \"2019033454\",\n",
    "    \"송원빈\": \"2017029043\",\n",
    "    \"이우석\": \"2020076571\",\n",
    "    \"이윤수\": \"2018025750\",\n",
    "    \"이명빈\": \"2021048813\"\n",
    "}\n",
    "\n",
    "selected_names = input(\n",
    "    \"동반 이용자 4명의 이름을 ,로 구분해서 입력: \\n\"\n",
    "    \"목록: 김동현, 김재훈, 황찬우, 김민국, 박중현, 송원빈, 이우석, 이윤수, 이명빈\").split(\",\")\n",
    "selected_names = [name.strip() for name in selected_names][:4]  # 앞뒤 공백 제거, 최대 4명\n",
    "\n",
    "# 동반자 추가 아이콘 클릭 (처음 한 번만)\n",
    "WebDriverWait(driver, 10).until(\n",
    "    EC.element_to_be_clickable((By.CSS_SELECTOR, 'mat-icon[matSuffix]'))\n",
    ").click()\n",
    "\n",
    "for name in selected_names:\n",
    "    if name not in all_members:\n",
    "        print(f\"{name} 정보 없음, 건너뜀.\")\n",
    "        continue\n",
    "    memberNo = all_members[name]\n",
    "    \n",
    "    # 이름 입력\n",
    "    WebDriverWait(driver, 10).until(\n",
    "        EC.presence_of_element_located((By.CSS_SELECTOR, 'input[formcontrolname=\"name\"]'))\n",
    "    ).clear()\n",
    "    driver.find_element(By.CSS_SELECTOR, 'input[formcontrolname=\"name\"]').send_keys(name)\n",
    "    time.sleep(0.5)\n",
    "    \n",
    "    # 학번 입력\n",
    "    driver.find_element(By.CSS_SELECTOR, 'input[formcontrolname=\"memberNo\"]').clear()\n",
    "    driver.find_element(By.CSS_SELECTOR, 'input[formcontrolname=\"memberNo\"]').send_keys(memberNo)\n",
    "    \n",
    "    # \"추가\" 버튼 클릭\n",
    "    driver.find_element(By.XPATH, '//button[span[text()=\"추가\"]]').click()\n",
    "    time.sleep(2.5)  # 너무 빨리 다음 반복 돌지 않게\n",
    "\n",
    "print(\"동반 이용자 4명 추가 완료!\")\n"
   ]
  },
  {
   "cell_type": "code",
   "execution_count": 13,
   "id": "93a83f5a",
   "metadata": {},
   "outputs": [],
   "source": [
    "#한번 확인하고, 등록 클릭!\n",
    "\n",
    "driver.find_element(By.XPATH, '//button[span[text()=\"등록\"]]').click()"
   ]
  },
  {
   "cell_type": "code",
   "execution_count": 14,
   "id": "eacc997c",
   "metadata": {},
   "outputs": [],
   "source": [
    "#동반이용자 개인정보수집동의 클릭 단 클릭이 가능해질때까지 대기.\n",
    "\n",
    "try:\n",
    "    WebDriverWait(driver, 20).until(\n",
    "        EC.element_to_be_clickable((By.XPATH, '//label[contains(text(),\"위 사항을 확인하고 동의합니다\")]'))).click()\n",
    "except:\n",
    "    WebDriverWait(driver, 20).until(\n",
    "        EC.element_to_be_clickable((By.XPATH, '//label[contains(text(),\"위 사항을 확인하고 동의합니다\")]'))).click()"
   ]
  },
  {
   "cell_type": "code",
   "execution_count": 15,
   "id": "5caa84ca",
   "metadata": {},
   "outputs": [],
   "source": [
    "# 마지막 신청버튼 클릭\n",
    "\n",
    "driver.find_element(By.XPATH, '//button[.//span[text()=\"신청\"]]').click()"
   ]
  },
  {
   "cell_type": "code",
   "execution_count": 16,
   "id": "b3490d92",
   "metadata": {},
   "outputs": [
    {
     "name": "stdout",
     "output_type": "stream",
     "text": [
      "캡쳐화면 저장 완료!\n"
     ]
    }
   ],
   "source": [
    "# 예약화면 캡쳐\n",
    "\n",
    "driver.get('https://lib.hanyang.ac.kr/mylibrary/room/reservations')\n",
    "time.sleep(2)\n",
    "\n",
    "# (A) 모든 예약의 펼침 버튼 클릭\n",
    "expand_buttons = driver.find_elements(By.CSS_SELECTOR, \".mat-expansion-indicator\")\n",
    "try: \n",
    "    for btn in expand_buttons:\n",
    "        btn.click()\n",
    "        time.sleep(1)\n",
    "except:\n",
    "    None\n",
    "\n",
    "save_path = fr\"C:\\Users\\SEUNGJUN\\Pictures\\도서관예약내역\\도서관예약_{hope_date}.png\"\n",
    "driver.save_screenshot(save_path)\n",
    "print(\"캡쳐화면 저장 완료!\")\n"
   ]
  },
  {
   "cell_type": "code",
   "execution_count": 17,
   "id": "b0558360",
   "metadata": {},
   "outputs": [],
   "source": [
    "driver.quit()"
   ]
  },
  {
   "cell_type": "code",
   "execution_count": 18,
   "id": "976f948a",
   "metadata": {},
   "outputs": [
    {
     "name": "stdout",
     "output_type": "stream",
     "text": [
      "업로드 완료! 파일 링크: https://drive.google.com/file/d/1AlWxeJFgCVpmqmCADCfDYoBF4_v0_qCE/view?usp=drivesdk\n",
      "https://drive.google.com/file/d/1AlWxeJFgCVpmqmCADCfDYoBF4_v0_qCE/view?usp=drivesdk\n"
     ]
    }
   ],
   "source": [
    "# 개인정보로 저장 google drive와 연동\n",
    "# google_client_id = \"1046852879307-s1qtbaaq011ehmc4skc993io66eejjs9.apps.googleusercontent.com\"\n",
    "# google_client_pw = \"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\"\n",
    "\n",
    "google_drive_folder_id = \"1pXzpCogQaDfyuf_i6aytAnPEjXSsWQPU\"\n",
    "google_client_secret_file = r'C:\\Users\\SEUNGJUN\\project_file\\project_file\\client_secret_1046852879307-s1qtbaaq011ehmc4skc993io66eejjs9.apps.googleusercontent.com.json'\n",
    "scopes = ['https://www.googleapis.com/auth/drive.file'] # 구글 드라이브 연동 설정\n",
    "\n",
    "from googleapiclient.discovery import build\n",
    "from googleapiclient.http import MediaFileUpload\n",
    "from google_auth_oauthlib.flow import InstalledAppFlow\n",
    "from google.auth.transport.requests import Request\n",
    "import os\n",
    "import pickle\n",
    "\n",
    "def get_gdrive_service():\n",
    "    creds = None\n",
    "    if os.path.exists('token.pickle'):\n",
    "        with open('token.pickle', 'rb') as token:\n",
    "            creds = pickle.load(token)\n",
    "    if not creds or not creds.valid:\n",
    "        if creds and creds.expired and creds.refresh_token:\n",
    "            creds.refresh(Request())\n",
    "        else:\n",
    "            flow = InstalledAppFlow.from_client_secrets_file(\n",
    "                google_client_secret_file, scopes)\n",
    "            creds = flow.run_local_server(port=0)\n",
    "        with open('token.pickle', 'wb') as token:\n",
    "            pickle.dump(creds, token)\n",
    "    return build('drive', 'v3', credentials=creds)\n",
    "\n",
    "def upload_file_to_gdrive(service, folder_id, file_path):\n",
    "    filename = os.path.basename(file_path)\n",
    "    file_metadata = {\n",
    "        'name': filename,\n",
    "        'parents': [folder_id]\n",
    "    }\n",
    "    media = MediaFileUpload(file_path, resumable=True)\n",
    "    uploaded = service.files().create(\n",
    "        body=file_metadata,\n",
    "        media_body=media,\n",
    "        fields='id,webViewLink'\n",
    "    ).execute()\n",
    "    # 누구나 볼 수 있도록 공개 설정\n",
    "    service.permissions().create(\n",
    "        fileId=uploaded['id'],\n",
    "        body={'type': 'anyone', 'role': 'reader'}\n",
    "    ).execute()\n",
    "    print('업로드 완료! 파일 링크:', uploaded['webViewLink'])\n",
    "    return uploaded['webViewLink']\n",
    "\n",
    "# 실제 사용 예시\n",
    "service = get_gdrive_service()\n",
    "link = upload_file_to_gdrive(service, google_drive_folder_id, save_path)\n",
    "print(link)   # 이걸 카카오톡 메시지에 첨부\n",
    "     "
   ]
  },
  {
   "cell_type": "code",
   "execution_count": 19,
   "id": "9167c9a9",
   "metadata": {},
   "outputs": [
    {
     "name": "stdout",
     "output_type": "stream",
     "text": [
      "https://kauth.kakao.com/oauth/authorize?client_id=918871529f1430cbf8a1ff62a74ba869&redirect_uri=https://example.com/oauth&response_type=code&scope=talk_message\n"
     ]
    }
   ],
   "source": [
    "REST_API_KEY = '918871529f1430cbf8a1ff62a74ba869'\n",
    "REDIRECT_URI = 'https://example.com/oauth'  # 예: https://localhost:3000\n",
    "CLIENT_SECRET = 'mhZ1yXNXzJFZP3REWL4lTndplvvGYYjc'\n",
    "\n",
    "auth_url = (\n",
    "    f\"https://kauth.kakao.com/oauth/authorize?\"\n",
    "    f\"client_id={REST_API_KEY}&redirect_uri={REDIRECT_URI}&response_type=code&scope=talk_message\"\n",
    ")\n",
    "print(auth_url)"
   ]
  },
  {
   "cell_type": "code",
   "execution_count": 20,
   "id": "55de0021",
   "metadata": {},
   "outputs": [
    {
     "name": "stdout",
     "output_type": "stream",
     "text": [
      "{'access_token': 'ISwPBHwtO0l6FkVzxH8CjCAAqRYFc1yOAAAAAQoXAc8AAAGYJ-BlOPsTCyemC-i_', 'token_type': 'bearer', 'expires_in': 21599}\n"
     ]
    }
   ],
   "source": [
    "import requests\n",
    "import json\n",
    "\n",
    "with open(r\"C:\\Users\\SEUNGJUN\\project_file\\project_file\\kakao_code.json\",\"r\") as fp:\n",
    "    tokens = json.load(fp)\n",
    "# 결과: {'access_token': '...', 'refresh_token': '...', ...}\n",
    "\n",
    "REFRESH_TOKEN = tokens[\"refresh_token\"]\n",
    "\n",
    "# 2. refresh_token으로 access_token을 재발급\n",
    "url = \"https://kauth.kakao.com/oauth/token\"\n",
    "data = {\n",
    "    \"grant_type\": \"refresh_token\",\n",
    "    \"client_id\": REST_API_KEY,\n",
    "    \"refresh_token\": REFRESH_TOKEN,\n",
    "    \"client_secret\": CLIENT_SECRET\n",
    "}\n",
    "response = requests.post(url, data=data)\n",
    "new_tokens = response.json()\n",
    "print(new_tokens)\n",
    "\n",
    "# 3. 새로 발급된 access_token이 있으면 기존 토큰 정보 갱신 (refresh_token도 갱신될 수 있음)\n",
    "tokens[\"access_token\"] = new_tokens[\"access_token\"]\n",
    "if \"refresh_token\" in new_tokens:\n",
    "    tokens[\"refresh_token\"] = new_tokens[\"refresh_token\"]\n",
    "\n",
    "# 4. 다시 저장\n",
    "with open(r\"C:\\Users\\SEUNGJUN\\project_file\\project_file\\kakao_code.json\", \"w\") as fp:\n",
    "    json.dump(tokens, fp)"
   ]
  },
  {
   "cell_type": "code",
   "execution_count": 21,
   "id": "a9b183c7",
   "metadata": {},
   "outputs": [],
   "source": [
    "def kakao_token_first_issue(CODE, REST_API_KEY, REDIRECT_URI, CLIENT_SECRET, save_path):\n",
    "    url = \"https://kauth.kakao.com/oauth/token\"\n",
    "    data = {\n",
    "        \"grant_type\": \"authorization_code\",\n",
    "        \"client_id\": REST_API_KEY,\n",
    "        \"redirect_uri\": REDIRECT_URI,\n",
    "        \"code\": CODE,\n",
    "        \"client_secret\": CLIENT_SECRET\n",
    "    }\n",
    "    response = requests.post(url, data=data)\n",
    "    tokens = response.json()\n",
    "    print(tokens)\n",
    "    with open(save_path, \"w\") as fp:\n",
    "        json.dump(tokens, fp)\n",
    "# 결과: {'access_token': '...', 'refresh_token': '...', ...}"
   ]
  },
  {
   "cell_type": "code",
   "execution_count": 22,
   "id": "6680078e",
   "metadata": {},
   "outputs": [],
   "source": [
    "def send_kakao_me(access_token, hope_date, link):\n",
    "    url = \"https://kapi.kakao.com/v2/api/talk/memo/default/send\"\n",
    "    headers = {\n",
    "        \"Authorization\": f\"Bearer {access_token}\"\n",
    "    }\n",
    "    \n",
    "    # 일반 텍스트에 URL 포함 - 카카오톡이 자동으로 미리보기 생성\n",
    "    message_text = f\"\"\"한양대 도서관 예약 완료! 📚\n",
    "\n",
    "📅 예약일: {hope_date}\n",
    "✅ 시설예약이 완료되었습니다.\n",
    "\n",
    "📋 예약내역 확인하기:\n",
    "{link}\"\"\"\n",
    "    \n",
    "    data = {\n",
    "        \"template_object\": json.dumps({\n",
    "            \"object_type\": \"text\",\n",
    "            \"text\": message_text,\n",
    "            \"link\": {\n",
    "                \"web_url\": link,\n",
    "                \"mobile_web_url\": link\n",
    "            }\n",
    "        })\n",
    "    }\n",
    "    \n",
    "    resp = requests.post(url, headers=headers, data=data)\n",
    "    print(resp.json())\n",
    "    \n",
    "    if resp.json().get('result_code') == 0:\n",
    "        print('메시지를 성공적으로 보냈습니다.')\n",
    "    else:\n",
    "        print(f'메시지를 성공적으로 보내지 못했습니다. 오류메시지 : {resp.json()}')\n",
    "    \n",
    "    return resp.json()"
   ]
  },
  {
   "cell_type": "code",
   "execution_count": 23,
   "id": "2f031829",
   "metadata": {},
   "outputs": [
    {
     "name": "stdout",
     "output_type": "stream",
     "text": [
      "{'result_code': 0}\n",
      "메시지를 성공적으로 보냈습니다.\n"
     ]
    },
    {
     "data": {
      "text/plain": [
       "{'result_code': 0}"
      ]
     },
     "execution_count": 23,
     "metadata": {},
     "output_type": "execute_result"
    }
   ],
   "source": [
    "send_kakao_me(tokens[\"access_token\"],hope_date,link)"
   ]
  },
  {
   "cell_type": "code",
   "execution_count": null,
   "id": "415f7fca",
   "metadata": {},
   "outputs": [],
   "source": []
  }
 ],
 "metadata": {
  "kernelspec": {
   "display_name": "Python 3",
   "language": "python",
   "name": "python3"
  },
  "language_info": {
   "codemirror_mode": {
    "name": "ipython",
    "version": 3
   },
   "file_extension": ".py",
   "mimetype": "text/x-python",
   "name": "python",
   "nbconvert_exporter": "python",
   "pygments_lexer": "ipython3",
   "version": "3.13.3"
  }
 },
 "nbformat": 4,
 "nbformat_minor": 5
}
